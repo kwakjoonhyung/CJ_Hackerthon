{
 "cells": [
  {
   "cell_type": "code",
   "execution_count": null,
   "id": "d53742db-1860-4481-9efb-a081771b5e61",
   "metadata": {},
   "outputs": [],
   "source": [
    "!git clone https://github.com/jaaaamj0711/Coverletter-Helper.git"
   ]
  },
  {
   "cell_type": "code",
   "execution_count": null,
   "id": "1497ede8-1e9f-453a-8a3d-d9a82156538d",
   "metadata": {},
   "outputs": [],
   "source": [
    "!pip install tensorflow"
   ]
  },
  {
   "cell_type": "code",
   "execution_count": 2,
   "id": "2e6e0739-140e-4862-a1fd-bd3ae8913130",
   "metadata": {},
   "outputs": [
    {
     "name": "stdout",
     "output_type": "stream",
     "text": [
      "/home/jupyterlab/DI_LAB/Hackerthon/Coverletter-Helper\n"
     ]
    }
   ],
   "source": [
    "%cd Coverletter-Helper"
   ]
  },
  {
   "cell_type": "code",
   "execution_count": 2,
   "id": "147ddf37-1406-4ee7-9999-89dacd1d937e",
   "metadata": {},
   "outputs": [],
   "source": [
    "import pandas as pd\n",
    "import numpy as np\n",
    "from string import punctuation\n",
    "from sklearn.model_selection import train_test_split\n",
    "from collections import Counter\n",
    "import torch\n",
    "import torch.nn as nn\n",
    "import torch.optim as optim"
   ]
  },
  {
   "cell_type": "code",
   "execution_count": null,
   "id": "dbb06698-4543-45f2-a500-c095f3be4463",
   "metadata": {},
   "outputs": [],
   "source": [
    "f = open('dataset.txt','r')\n",
    "df = f.read().splitlines()"
   ]
  },
  {
   "cell_type": "code",
   "execution_count": null,
   "id": "4aead880-337c-4cf7-94f4-07161dd74ceb",
   "metadata": {},
   "outputs": [],
   "source": [
    "# Unknown 값을 가진 샘플 제거 및 샘플 수 확인\n",
    "headline = [n for n in df if n != \"Unknown\"]\n",
    "print('노이즈값 제거 후 샘플의 개수 : {}'.format(len(headline)))"
   ]
  },
  {
   "cell_type": "code",
   "execution_count": null,
   "id": "427b1ec4-9b1c-4d8c-832e-83ebc9684dba",
   "metadata": {},
   "outputs": [],
   "source": [
    "text = headline\n",
    "\n",
    "# Tokenization\n",
    "vocab = Counter()\n",
    "for line in text:\n",
    "    vocab.update(line.split())\n",
    "\n",
    "# 단어 집합 크기 확인\n",
    "vocab_size = len(vocab) + 1\n",
    "print('단어 집합의 크기 : %d' % vocab_size)"
   ]
  },
  {
   "cell_type": "code",
   "execution_count": 27,
   "id": "4b1ad511-3d76-44d2-86e6-6fe56c4b9ff2",
   "metadata": {},
   "outputs": [],
   "source": [
    "# 인코딩\n",
    "word_to_index = {word: i+1 for i, (word, _) in enumerate(vocab.most_common())}\n",
    "index_to_word = {i+1: word for word, i in word_to_index.items()}\n",
    "\n",
    "sequences = []\n",
    "for line in text:\n",
    "    encoded = [word_to_index[word] for word in line.split()]\n",
    "    for i in range(1, len(encoded)):\n",
    "        sequences.append(encoded[:i+1])"
   ]
  },
  {
   "cell_type": "code",
   "execution_count": 28,
   "id": "575613d2-71c3-417d-babf-09632f05bfd4",
   "metadata": {},
   "outputs": [],
   "source": [
    "# Padding\n",
    "max_len = max(len(s) for s in sequences)\n",
    "sequences = [s + [0]*(max_len-len(s)) for s in sequences]"
   ]
  },
  {
   "cell_type": "code",
   "execution_count": 29,
   "id": "e334a5ce-e5cd-46eb-8c7b-787f511d75b9",
   "metadata": {},
   "outputs": [],
   "source": [
    "# Data split\n",
    "sequences = torch.tensor(sequences)\n",
    "X = sequences[:,:-1]\n",
    "y = sequences[:,-1]"
   ]
  },
  {
   "cell_type": "code",
   "execution_count": 30,
   "id": "cdb4efd1-f1cb-45a3-9d16-b1e5942066a9",
   "metadata": {},
   "outputs": [],
   "source": [
    "# Model\n",
    "class TextModel(nn.Module):\n",
    "    def __init__(self, vocab_size, embedding_dim, hidden_dim, output_dim, pad_idx):\n",
    "        super().__init__()\n",
    "        self.embedding = nn.Embedding(vocab_size, embedding_dim, padding_idx=pad_idx)\n",
    "        self.rnn = nn.LSTM(embedding_dim, hidden_dim)\n",
    "        self.fc = nn.Linear(hidden_dim, output_dim)\n",
    "        \n",
    "    def forward(self, text):\n",
    "        embedded = self.embedding(text)\n",
    "        output, (hidden, _) = self.rnn(embedded)\n",
    "        return self.fc(output)\n",
    "\n",
    "model = TextModel(vocab_size, 128, 128, vocab_size, 0)\n",
    "optimizer = optim.Adam(model.parameters())\n",
    "criterion = nn.CrossEntropyLoss()"
   ]
  },
  {
   "cell_type": "code",
   "execution_count": null,
   "id": "a03b9f7b-ae4f-407a-bc94-c8d79b0b2078",
   "metadata": {},
   "outputs": [],
   "source": [
    "# Training\n",
    "epochs = 24\n",
    "for epoch in range(epochs):\n",
    "    optimizer.zero_grad()\n",
    "    output = model(X)\n",
    "    output_dim = output.shape[-1]\n",
    "    output = output.view(-1, output_dim)\n",
    "    y = y.view(-1)\n",
    "    loss = criterion(output, y)\n",
    "    loss.backward()\n",
    "    optimizer.step()\n",
    "    print(f'Epoch: {epoch+1:02}, Loss: {loss.item():.4f}')"
   ]
  },
  {
   "cell_type": "code",
   "execution_count": null,
   "id": "f7dc2cc3-03c7-4b08-8072-03810c5112eb",
   "metadata": {},
   "outputs": [],
   "source": [
    "# Sentence Generator 정의\n",
    "def sentence_generation(model, t, current_word, n): \n",
    "    init_word = current_word \n",
    "    sentence = ''\n",
    "    for _ in range(n):\n",
    "        encoded = t.texts_to_sequences([current_word])[0] \n",
    "        encoded = pad_sequences([encoded], maxlen=627, padding='pre') \n",
    "        result = model.predict_classes(encoded, verbose=0)\n",
    "    \n",
    "        for word, index in t.word_index.items(): \n",
    "            if index == result: \n",
    "                break \n",
    "        current_word = current_word + ' '  + word \n",
    "        sentence = sentence + ' ' + word \n",
    "  \n",
    "    sentence = init_word + sentence\n",
    "    return sentence"
   ]
  },
  {
   "cell_type": "code",
   "execution_count": null,
   "id": "7cd8bee8-0830-4dfe-9cf1-e625f63bfb42",
   "metadata": {},
   "outputs": [],
   "source": [
    "# 결과확인\n",
    "print(sentence_generation(model, t, '개발', 3))\n",
    "print(sentence_generation(model, t, '분석', 3))\n",
    "print(sentence_generation(model, t, '데이터', 3))"
   ]
  },
  {
   "cell_type": "code",
   "execution_count": null,
   "id": "54851f67-02e9-4821-bfa9-aeb47cbbbf6c",
   "metadata": {},
   "outputs": [],
   "source": []
  }
 ],
 "metadata": {
  "kernelspec": {
   "display_name": "Python 3 (ipykernel)",
   "language": "python",
   "name": "python3"
  },
  "language_info": {
   "codemirror_mode": {
    "name": "ipython",
    "version": 3
   },
   "file_extension": ".py",
   "mimetype": "text/x-python",
   "name": "python",
   "nbconvert_exporter": "python",
   "pygments_lexer": "ipython3",
   "version": "3.8.10"
  }
 },
 "nbformat": 4,
 "nbformat_minor": 5
}
